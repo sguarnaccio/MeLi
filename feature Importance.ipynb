{
 "cells": [
  {
   "cell_type": "code",
   "execution_count": 1,
   "metadata": {},
   "outputs": [],
   "source": [
    "import json\n",
    "import urllib.request\n",
    "import numpy as np\n",
    "import pandas as pd\n",
    "from pandas import json_normalize\n",
    "import seaborn as sns\n",
    "import matplotlib.pyplot as plt"
   ]
  },
  {
   "cell_type": "code",
   "execution_count": 2,
   "metadata": {},
   "outputs": [],
   "source": [
    "tv_df = pd.read_pickle(r'E:\\entrevistas\\dataset\\tv_final.pkl')"
   ]
  },
  {
   "cell_type": "markdown",
   "metadata": {},
   "source": [
    "# Feature enginering"
   ]
  },
  {
   "cell_type": "code",
   "execution_count": 3,
   "metadata": {},
   "outputs": [],
   "source": [
    "from datetime import datetime\n",
    "from dateutil.relativedelta import relativedelta\n",
    "\n",
    "\n",
    "def date(row):\n",
    "    s_registration_timestamp = pd.Timestamp(row['seller_registration_date']).tz_convert(None)\n",
    "    row['seller_registration_year'] = s_registration_timestamp.year\n",
    "    row['seller_registration_month'] = s_registration_timestamp.month\n",
    "    row['seller_registration_day'] = s_registration_timestamp.month\n",
    "    \n",
    "    now = datetime.now()\n",
    "    end_date = datetime.fromtimestamp(datetime.now().timestamp())\n",
    "    try:\n",
    "        #if timestamp is none\n",
    "        start_date = datetime.fromtimestamp(s_registration_timestamp.timestamp())\n",
    "        \n",
    "        difference_in_years = relativedelta(end_date, start_date).years\n",
    "        difference_in_months = relativedelta(end_date, start_date).months\n",
    "        #difference_in_days = relativedelta(end_date, start_date).days\n",
    "\n",
    "        month_diff = difference_in_years * 12 + difference_in_months\n",
    "\n",
    "        row['seller_years_active'] = difference_in_years\n",
    "        row['seller_months_active'] = month_diff\n",
    "\n",
    "        time_diff = now - s_registration_timestamp\n",
    "        row['seller_days_active'] = time_diff.days\n",
    "    \n",
    "    except:\n",
    "        #all nan\n",
    "        row['seller_years_active'] = s_registration_timestamp.year\n",
    "        row['seller_months_active'] = s_registration_timestamp.year\n",
    "        row['seller_days_active'] = s_registration_timestamp.year\n",
    "        \n",
    "        \n",
    "    \n",
    "    \n",
    "    \n",
    "    item_pub_startt = pd.Timestamp(row['publication_start_time']).tz_convert(None)\n",
    "    row['item_publication_year'] = item_pub_startt.year\n",
    "    row['item_publication_month'] = item_pub_startt.month\n",
    "    row['item_publication_day'] = item_pub_startt.month\n",
    "\n",
    "    try:\n",
    "        #if timestamp is none\n",
    "        start_date = datetime.fromtimestamp(item_pub_startt.timestamp())\n",
    "\n",
    "        difference_in_years = relativedelta(end_date, start_date).years\n",
    "        difference_in_months = relativedelta(end_date, start_date).months\n",
    "        #difference_in_days = relativedelta(end_date, start_date).days\n",
    "\n",
    "        month_diff = difference_in_years * 12 + difference_in_months\n",
    "\n",
    "        row['item_years_published'] = difference_in_years\n",
    "        row['item_months_published'] = month_diff\n",
    "\n",
    "        time_diff = now - item_pub_startt\n",
    "        row['item_days_published'] = time_diff.days\n",
    "\n",
    "    except:\n",
    "        #all nan\n",
    "        row['item_years_published'] = item_pub_startt.year\n",
    "        row['item_months_published'] = item_pub_startt.year\n",
    "        row['item_days_published'] = item_pub_startt.year\n",
    "\n",
    "    return row\n",
    "    \n",
    "tv_df = tv_df.apply(date, axis=1)"
   ]
  },
  {
   "cell_type": "code",
   "execution_count": 4,
   "metadata": {},
   "outputs": [],
   "source": [
    "tv_df = tv_df.reset_index(drop=True)"
   ]
  },
  {
   "cell_type": "markdown",
   "metadata": {},
   "source": [
    "# Feature extraction"
   ]
  },
  {
   "cell_type": "code",
   "execution_count": 5,
   "metadata": {},
   "outputs": [],
   "source": [
    "#pipeline dependencies\n",
    "from sklearn.base import BaseEstimator, TransformerMixin\n",
    "\n",
    "from sklearn.pipeline import Pipeline\n",
    "from sklearn.pipeline import FeatureUnion\n",
    "from sklearn.impute import SimpleImputer\n",
    "from sklearn.preprocessing import StandardScaler\n",
    "from sklearn.preprocessing import OneHotEncoder\n",
    "from sklearn.feature_extraction import DictVectorizer\n",
    "\n",
    "from sklearn.metrics import confusion_matrix, accuracy_score\n",
    "\n",
    "import xgboost as xgb"
   ]
  },
  {
   "cell_type": "code",
   "execution_count": 6,
   "metadata": {},
   "outputs": [],
   "source": [
    "class GetDummies2(BaseEstimator, TransformerMixin):\n",
    "       \n",
    "    def __init__(self):\n",
    "        self.enc = None\n",
    "        \n",
    "    def fit(self, X, y=None):\n",
    "        self.enc = OneHotEncoder(handle_unknown='ignore', sparse=False)\n",
    "\n",
    "        self.enc.fit(X)\n",
    "        \n",
    "            \n",
    "        return self\n",
    "    \n",
    "    def transform(self, X):\n",
    "        out = self.enc.transform(X)\n",
    "        self.categorical_dimension = out.shape[1]\n",
    "        \n",
    "        return pd.DataFrame(out)\n",
    "    \n",
    "    def get_categorical_dimension(self):\n",
    "        return self.categorical_dimension"
   ]
  },
  {
   "cell_type": "code",
   "execution_count": 7,
   "metadata": {},
   "outputs": [],
   "source": [
    "\"\"\"\n",
    "other_attribbutes = ['id', 'site_id', 'title', 'price', 'sold_quantity', 'seller.seller_reputation.transactions.completed',\n",
    "          'latitude', 'longitude', 'discount', 'seller_years_active', 'seller_months_active', 'seller_days_active',\n",
    "           'item_months_published', 'item_days_published', 'item_initial_quantity']\n",
    "\n",
    "cat_attribbutes = ['condition', 'seller.seller_reputation.power_seller_status', \n",
    "          'seller.seller_reputation.level_id', 'address.state_name', 'shipping.mode', \n",
    "          'available_quantity', 'item_years_published', 'DISPLAY_SIZE', 'DISPLAY_TYPE', 'IS_SMART', 'RESOLUTION_TYPE', 'brand']#'listing_type_id', \n",
    "\n",
    "\n",
    "for cat in cat_attribbutes:\n",
    "    tv_df[cat].fillna('other', inplace=True)\n",
    "    \n",
    "get_dummies = GetDummies2()\n",
    "categorical = get_dummies.fit_transform(tv_df[cat_features].values)\n",
    "categorical_dimension = get_dummies.get_categorical_dimension()\n",
    "tv_categorical = pd.concat([tv_df[other_attribbutes], categorical ], axis=1)\n",
    "\n",
    "\"\"\"\n",
    "\n",
    "\n",
    "other_attribbutes = ['id', 'site_id', 'title', 'sold_quantity', \n",
    "                     'price', 'seller.seller_reputation.transactions.completed', \n",
    "                     'discount', 'item_initial_quantity', 'latitude', 'longitude']\n",
    "\n",
    "cat_attribbutes = ['condition', 'seller.seller_reputation.power_seller_status', \n",
    "                  'seller.seller_reputation.level_id', 'address.state_name', \n",
    "                   'shipping.mode', 'brand']#'listing_type_id', \n",
    "\n",
    "\n",
    "ord_attribbutes = ['available_quantity', 'DISPLAY_SIZE', 'item_months_published', 'seller_years_active']\n",
    "\n",
    "\n",
    "\n",
    "for cat in cat_attribbutes:\n",
    "    tv_df[cat].fillna('other', inplace=True)\n",
    "    \n",
    "for cat in ord_attribbutes:\n",
    "    tv_df[cat].fillna(0, inplace=True)\n",
    "\n",
    "tv_df = tv_df.astype({\"seller_years_active\": int})\n",
    "get_dummies = GetDummies2()\n",
    "categorical = get_dummies.fit_transform(tv_df[cat_attribbutes + ord_attribbutes].values)\n",
    "categorical_dimension = get_dummies.get_categorical_dimension()\n",
    "tv_categorical = pd.concat([tv_df[other_attribbutes], categorical ], axis=1)"
   ]
  },
  {
   "cell_type": "code",
   "execution_count": 85,
   "metadata": {},
   "outputs": [],
   "source": []
  },
  {
   "cell_type": "code",
   "execution_count": 8,
   "metadata": {},
   "outputs": [],
   "source": [
    "#spliteo estratificadamente en base al sold quantity\n",
    "def split_train_test(dataset, split_ratio, seed, efective_sample = 30):\n",
    "    \n",
    "    \n",
    "    train_set = pd.DataFrame()\n",
    "    test_set = pd.DataFrame()\n",
    "    \n",
    "    #sampleo estratificado por sold quantity para garantizar la existencia dee muestras de todos  los grupos\n",
    "    for cat in dataset.sold_quantity.unique():\n",
    "        stratum = dataset[dataset['sold_quantity'] == cat].copy()\n",
    "        \n",
    "        #sampleo una cantidad determinada para que quede balanceeado, ya  que existe un desbalance importantre entre grupos\n",
    "        #efective_sample = frac * total => frac = efective_sample / total\n",
    "        if stratum.shape[0] > efective_sample:\n",
    "            frac = efective_sample / stratum.shape[0]\n",
    "        else:\n",
    "            #si hay meenos muestras que efective_sample, entonces considero todo\n",
    "            frac = 1 \n",
    "            \n",
    "        stratum = stratum.sample(frac=frac, random_state=1) \n",
    "        stratum = stratum.reset_index(drop=True)\n",
    "        \n",
    "        #mezclo los  indices y separo en train y test\n",
    "        shuffled_indices = np.random.RandomState(seed=seed).permutation(len(stratum))\n",
    "        train_set_size = int(len(stratum) * split_ratio)\n",
    "        train_indices = shuffled_indices[:train_set_size]\n",
    "        test_indices = shuffled_indices[train_set_size:]\n",
    "        \n",
    "        train_stratum = stratum.iloc[train_indices]\n",
    "        test_stratum = stratum.iloc[test_indices]\n",
    "        \n",
    "        train_set = pd.concat([train_set, train_stratum], ignore_index=True)\n",
    "        test_set = pd.concat([test_set, test_stratum], ignore_index=True)\n",
    "        \n",
    "    return train_set, test_set"
   ]
  },
  {
   "cell_type": "code",
   "execution_count": 9,
   "metadata": {},
   "outputs": [
    {
     "data": {
      "text/plain": [
       "0.0      11572\n",
       "5.0        619\n",
       "1.0        451\n",
       "2.0        219\n",
       "3.0        188\n",
       "25.0        96\n",
       "4.0         84\n",
       "50.0        65\n",
       "100.0       51\n",
       "500.0       27\n",
       "250.0       19\n",
       "150.0       18\n",
       "200.0       17\n",
       "Name: sold_quantity, dtype: int64"
      ]
     },
     "execution_count": 9,
     "metadata": {},
     "output_type": "execute_result"
    }
   ],
   "source": [
    "#check balance\n",
    "tv_categorical.sold_quantity.value_counts()"
   ]
  },
  {
   "cell_type": "code",
   "execution_count": 10,
   "metadata": {},
   "outputs": [],
   "source": [
    "train_set_cat, test_set_cat = split_train_test(tv_categorical, 0.8, 42, efective_sample = 450)"
   ]
  },
  {
   "cell_type": "code",
   "execution_count": null,
   "metadata": {},
   "outputs": [],
   "source": []
  },
  {
   "cell_type": "code",
   "execution_count": null,
   "metadata": {},
   "outputs": [],
   "source": []
  },
  {
   "cell_type": "code",
   "execution_count": 11,
   "metadata": {},
   "outputs": [],
   "source": [
    "class NumericalCategoricalSelector(BaseEstimator, TransformerMixin):\n",
    "    def __init__(self, attribute_names, feature_dimension):\n",
    "        self.attribute_names = attribute_names\n",
    "        self.feature_dimension = feature_dimension\n",
    "        \n",
    "    def fit(self, X, y=None):\n",
    "        if 'latitude' in self.attribute_names:\n",
    "            self.lat_median = X['latitude'].median()\n",
    "            self.lon_median = X['longitude'].median()\n",
    "            \n",
    "        return self\n",
    "    \n",
    "    def transform(self, X):\n",
    "        if 'latitude' in self.attribute_names:\n",
    "            \n",
    "            X['latitude'].fillna(self.lat_median, inplace=True)\n",
    "            X['longitude'].fillna(self.lon_median, inplace=True)\n",
    "                \n",
    "            return X[self.attribute_names].values\n",
    "        \n",
    "        else:\n",
    "            return X.iloc[:,-self.feature_dimension:].values\n"
   ]
  },
  {
   "cell_type": "code",
   "execution_count": null,
   "metadata": {},
   "outputs": [],
   "source": []
  },
  {
   "cell_type": "code",
   "execution_count": 12,
   "metadata": {},
   "outputs": [],
   "source": [
    "\"\"\"\n",
    "num_features = ['price', 'seller.seller_reputation.transactions.completed', 'discount', 'seller_years_active', 'item_days_published', 'item_initial_quantity']\n",
    "\n",
    "cat_features = ['condition', 'seller.seller_reputation.power_seller_status', \n",
    "          'seller.seller_reputation.level_id', 'address.state_name', 'shipping.mode', \n",
    "          'available_quantity', 'item_years_published', 'DISPLAY_SIZE', 'DISPLAY_TYPE', 'IS_SMART', 'RESOLUTION_TYPE', 'brand']#, 'address.city_name', 'brand']\n",
    "\n",
    "\"\"\"\n",
    "num_features = ['price', 'seller.seller_reputation.transactions.completed', 'discount', 'item_initial_quantity', 'latitude', 'longitude']\n",
    "#num_features = ['log_price', 'seller.seller_reputation.transactions.completed', 'discount', 'item_initial_quantity']\n",
    "\n",
    "cat_features = ['condition', 'seller.seller_reputation.power_seller_status', \n",
    "          'seller.seller_reputation.level_id', 'address.state_name', 'shipping.mode', \n",
    "          'available_quantity', 'item_years_published', 'seller_years_active', \n",
    "          'DISPLAY_SIZE', 'DISPLAY_TYPE', 'IS_SMART', 'RESOLUTION_TYPE', 'brand']\n",
    "\n",
    "\n"
   ]
  },
  {
   "cell_type": "code",
   "execution_count": 13,
   "metadata": {},
   "outputs": [],
   "source": [
    "num_pipeline = Pipeline([\n",
    "    ('selector', NumericalCategoricalSelector(num_features, len(num_features))),\n",
    "    ('imputer', SimpleImputer(strategy='constant', fill_value = 0)),\n",
    "    ('std_scaler', StandardScaler()),\n",
    "])\n",
    "\n",
    "cat_pipeline = Pipeline([\n",
    "    ('selector', NumericalCategoricalSelector(cat_features, categorical_dimension)),\n",
    "    \n",
    "    \n",
    "])\n",
    "\n",
    "full_pipeline  = FeatureUnion(transformer_list=[\n",
    "    ('num_pipeline', num_pipeline),\n",
    "    ('cat_pipeline', cat_pipeline),\n",
    "])"
   ]
  },
  {
   "cell_type": "code",
   "execution_count": 14,
   "metadata": {},
   "outputs": [],
   "source": [
    "labels = train_set_cat['sold_quantity'].copy()\n",
    "labels_test = test_set_cat['sold_quantity'].copy()"
   ]
  },
  {
   "cell_type": "code",
   "execution_count": 15,
   "metadata": {},
   "outputs": [],
   "source": [
    "data_train = full_pipeline.fit_transform(train_set_cat)\n",
    "data_test = full_pipeline.transform(test_set_cat)"
   ]
  },
  {
   "cell_type": "code",
   "execution_count": null,
   "metadata": {},
   "outputs": [],
   "source": [
    "enc = OneHotEncoder(handle_unknown='ignore', sparse=False)\n",
    "\n",
    "label = enc.fit_transform(np.array(labels).reshape(-1, 1))\n",
    "label_test = enc.transform(np.array(labels_test).reshape(-1, 1))"
   ]
  },
  {
   "cell_type": "markdown",
   "metadata": {},
   "source": [
    "# XGBoost"
   ]
  },
  {
   "cell_type": "markdown",
   "metadata": {},
   "source": [
    "**Entrenamos un modelo XGboost sobre la lista de features para luego calcular la importancia de estos y \n",
    "hacer una seleccion de un subconjunto para luego entrenar el modelo definitivo.**\n",
    "\n",
    "**Lo que buscamos con esto es eliminar aquellos features que puedan llegar a meter ruido como tambien reducir las dimensiones y \n",
    "asi acelerar los tiempos**"
   ]
  },
  {
   "cell_type": "code",
   "execution_count": 16,
   "metadata": {},
   "outputs": [],
   "source": [
    "y = tv_categorical['sold_quantity'].copy()\n",
    "X = full_pipeline.transform(tv_categorical)"
   ]
  },
  {
   "cell_type": "code",
   "execution_count": 17,
   "metadata": {},
   "outputs": [],
   "source": [
    "data_dmatrix = xgb.DMatrix(data=X,label=y)"
   ]
  },
  {
   "cell_type": "code",
   "execution_count": 18,
   "metadata": {},
   "outputs": [],
   "source": [
    "xg_cls = xgb.XGBClassifier(objective ='multi:softmax', n_jobs = -1)"
   ]
  },
  {
   "cell_type": "code",
   "execution_count": 19,
   "metadata": {},
   "outputs": [],
   "source": [
    "xg_cls.fit(data_train,labels)\n",
    "\n",
    "xgb_preds = xg_cls.predict(data_test)"
   ]
  },
  {
   "cell_type": "code",
   "execution_count": 20,
   "metadata": {},
   "outputs": [
    {
     "data": {
      "text/plain": [
       "0.8468677494199536"
      ]
     },
     "execution_count": 20,
     "metadata": {},
     "output_type": "execute_result"
    }
   ],
   "source": [
    "conf_matrix = confusion_matrix(labels_test, xgb_preds)\n",
    "acc = accuracy_score(labels_test, xgb_preds)\n",
    "acc"
   ]
  },
  {
   "cell_type": "code",
   "execution_count": 23,
   "metadata": {},
   "outputs": [
    {
     "data": {
      "image/png": "[encoded data removed]",
      "text/plain": [
       "<Figure size 720x720 with 1 Axes>"
      ]
     },
     "metadata": {
      "needs_background": "light"
     },
     "output_type": "display_data"
    }
   ],
   "source": [
    "xgb.plot_importance(xg_cls)\n",
    "plt.rcParams['figure.figsize'] = [5, 5]\n",
    "plt.show()"
   ]
  },
  {
   "cell_type": "code",
   "execution_count": 24,
   "metadata": {},
   "outputs": [],
   "source": [
    "feature_importance = xg_cls.get_booster().get_score(importance_type= 'gain')"
   ]
  },
  {
   "cell_type": "code",
   "execution_count": 25,
   "metadata": {},
   "outputs": [
    {
     "data": {
      "text/plain": [
       "{'f289': 65.2720108,\n",
       " 'f309': 11.2007604475,\n",
       " 'f292': 8.424157866875001,\n",
       " 'f270': 8.029888410125,\n",
       " 'f271': 7.533808782875,\n",
       " 'f267': 7.4069112200000005,\n",
       " 'f264': 6.472591540470588,\n",
       " 'f75': 5.8201773166363635,\n",
       " 'f290': 4.408135950293749,\n",
       " 'f273': 3.913574907444444,\n",
       " 'f288': 3.877533873333333,\n",
       " 'f308': 3.4453025652222227,\n",
       " 'f260': 3.326788751815384,\n",
       " 'f272': 3.1257106182000003,\n",
       " 'f16': 3.120598550171429,\n",
       " 'f263': 2.7768116734615385,\n",
       " 'f39': 2.7627557781653334,\n",
       " 'f307': 2.727590422354839,\n",
       " 'f3': 2.7106854107178986,\n",
       " 'f261': 2.6302124647607146,\n",
       " 'f222': 2.2144337280000004,\n",
       " 'f228': 2.170204043,\n",
       " 'f266': 2.097850325,\n",
       " 'f104': 1.6302013514833333,\n",
       " 'f306': 1.5759047695333332,\n",
       " 'f139': 1.5347524206387495,\n",
       " 'f295': 1.5181882672366664,\n",
       " 'f109': 1.4978195923333335,\n",
       " 'f12': 1.475070977048182,\n",
       " 'f97': 1.4649123899619048,\n",
       " 'f299': 1.4299182740727274,\n",
       " 'f219': 1.3874911189391916,\n",
       " 'f238': 1.3633742806482156,\n",
       " 'f130': 1.3616080639538464,\n",
       " 'f25': 1.335365295,\n",
       " 'f87': 1.3089601235,\n",
       " 'f106': 1.2837296857952378,\n",
       " 'f269': 1.253865044636364,\n",
       " 'f311': 1.2274707867142853,\n",
       " 'f2': 1.1789150731412497,\n",
       " 'f143': 1.160658010330435,\n",
       " 'f268': 1.1380230783750003,\n",
       " 'f234': 1.0743724071875476,\n",
       " 'f239': 1.0564850978682354,\n",
       " 'f250': 1.0228759416,\n",
       " 'f224': 0.9321282288931036,\n",
       " 'f221': 0.915049933935,\n",
       " 'f265': 0.9095943178434783,\n",
       " 'f249': 0.8938669725,\n",
       " 'f43': 0.8906798175833335,\n",
       " 'f160': 0.886126459,\n",
       " 'f108': 0.8807703507647064,\n",
       " 'f246': 0.8763236852789473,\n",
       " 'f262': 0.8450693036666667,\n",
       " 'f20': 0.843826126156744,\n",
       " 'f1': 0.8417027574861949,\n",
       " 'f11': 0.8183808806144737,\n",
       " 'f303': 0.8134940632913041,\n",
       " 'f310': 0.8059237446518518,\n",
       " 'f235': 0.7888161849888368,\n",
       " 'f274': 0.7844265737727271,\n",
       " 'f125': 0.7585106914093023,\n",
       " 'f44': 0.754996129911591,\n",
       " 'f236': 0.7533644951580646,\n",
       " 'f93': 0.741773831,\n",
       " 'f59': 0.733905089956,\n",
       " 'f148': 0.72618666375,\n",
       " 'f233': 0.7169644656020452,\n",
       " 'f54': 0.713432749447059,\n",
       " 'f127': 0.7084287640705885,\n",
       " 'f301': 0.6736205373924242,\n",
       " 'f296': 0.6647407957714284,\n",
       " 'f297': 0.649260524597143,\n",
       " 'f8': 0.6446661643333332,\n",
       " 'f304': 0.6436990932521739,\n",
       " 'f241': 0.6418026780586955,\n",
       " 'f242': 0.6263536455685715,\n",
       " 'f15': 0.6261709354142857,\n",
       " 'f244': 0.6256930858266667,\n",
       " 'f19': 0.6168780207881656,\n",
       " 'f0': 0.6122137439047893,\n",
       " 'f74': 0.607115209,\n",
       " 'f240': 0.5877594298102564,\n",
       " 'f253': 0.5859951506090908,\n",
       " 'f294': 0.5629705050666665,\n",
       " 'f257': 0.5610859078863636,\n",
       " 'f129': 0.5587464394444445,\n",
       " 'f298': 0.5475027965866668,\n",
       " 'f5': 0.5471585170858869,\n",
       " 'f154': 0.5219240461846153,\n",
       " 'f293': 0.5083819585700001,\n",
       " 'f254': 0.4926624360783334,\n",
       " 'f248': 0.49092078857999993,\n",
       " 'f55': 0.4748186113999999,\n",
       " 'f13': 0.47210924635351825,\n",
       " 'f220': 0.4686402541835187,\n",
       " 'f243': 0.4581048711272729,\n",
       " 'f245': 0.45726154859024404,\n",
       " 'f302': 0.44084257509999997,\n",
       " 'f4': 0.4359590720538116,\n",
       " 'f14': 0.4241801526954545,\n",
       " 'f229': 0.421850771,\n",
       " 'f116': 0.3956535808200001,\n",
       " 'f251': 0.38592714274999995,\n",
       " 'f259': 0.37604311498846166,\n",
       " 'f166': 0.35324060522857154,\n",
       " 'f300': 0.3530241557148149,\n",
       " 'f45': 0.3491552692389744,\n",
       " 'f247': 0.34236625211904753,\n",
       " 'f10': 0.3180560831112821,\n",
       " 'f232': 0.31029409496281474,\n",
       " 'f225': 0.29584887294090917,\n",
       " 'f230': 0.264557578168421,\n",
       " 'f17': 0.2530880346824676,\n",
       " 'f142': 0.23655247185999997,\n",
       " 'f18': 0.2323310620111111,\n",
       " 'f305': 0.2221429107011999,\n",
       " 'f252': 0.20782604073333336,\n",
       " 'f6': 0.18315686654285712,\n",
       " 'f94': 0.15751324233783787,\n",
       " 'f227': 0.1531020363363636,\n",
       " 'f103': 0.13622779197272727,\n",
       " 'f124': 0.0502777398}"
      ]
     },
     "execution_count": 25,
     "metadata": {},
     "output_type": "execute_result"
    }
   ],
   "source": [
    "{k: v for k, v in sorted(feature_importance.items(), key=lambda item: item[1], reverse=True)}"
   ]
  },
  {
   "cell_type": "code",
   "execution_count": 26,
   "metadata": {},
   "outputs": [],
   "source": [
    "from sklearn.feature_selection import SelectFromModel\n",
    "selection = SelectFromModel(xg_cls, threshold=0.002, prefit=True)#0.002\n",
    "selected_dataset = selection.transform(data_train)\n",
    "selected_dataset_test = selection.transform(data_test)"
   ]
  },
  {
   "cell_type": "markdown",
   "metadata": {},
   "source": [
    "**SelectFromModel nos permite extraer los features mas significativos dado un umbral. Seria la ultima etapa del pipeline.\n",
    "Una vez fiteado el modelo XGBoost utilizado para seleccionar los features, se pasa como argumento a SelectFromModel**"
   ]
  },
  {
   "cell_type": "code",
   "execution_count": 27,
   "metadata": {},
   "outputs": [
    {
     "data": {
      "text/plain": [
       "(1703, 93)"
      ]
     },
     "execution_count": 27,
     "metadata": {},
     "output_type": "execute_result"
    }
   ],
   "source": [
    "selected_dataset.shape"
   ]
  },
  {
   "cell_type": "markdown",
   "metadata": {},
   "source": [
    "# Modelo Final"
   ]
  },
  {
   "cell_type": "markdown",
   "metadata": {},
   "source": [
    "## Feature Selection"
   ]
  },
  {
   "cell_type": "code",
   "execution_count": 29,
   "metadata": {},
   "outputs": [
    {
     "data": {
      "text/plain": [
       "RandomForestClassifier(n_jobs=-1)"
      ]
     },
     "execution_count": 29,
     "metadata": {},
     "output_type": "execute_result"
    }
   ],
   "source": [
    "from sklearn.ensemble import RandomForestClassifier\n",
    "forest_cls = RandomForestClassifier(n_jobs = -1)#, n_estimators = 5)# , max_depth = 200 , random_state=0)\n",
    "forest_cls.fit(selected_dataset, label)"
   ]
  },
  {
   "cell_type": "code",
   "execution_count": 30,
   "metadata": {},
   "outputs": [],
   "source": [
    "tree_pred_test = forest_cls.predict(selected_dataset_test)"
   ]
  },
  {
   "cell_type": "code",
   "execution_count": 31,
   "metadata": {},
   "outputs": [
    {
     "name": "stdout",
     "output_type": "stream",
     "text": [
      "Acccuracy:  0.8236658932714617\n"
     ]
    }
   ],
   "source": [
    "conf_matrix = confusion_matrix(label_test.argmax(axis=1), tree_pred_test.argmax(axis=1))\n",
    "acc = accuracy_score(label_test.argmax(axis=1), tree_pred_test.argmax(axis=1))\n",
    "\n",
    "print('Acccuracy: ', acc)"
   ]
  },
  {
   "cell_type": "markdown",
   "metadata": {},
   "source": [
    "## No Feature Selection"
   ]
  },
  {
   "cell_type": "code",
   "execution_count": 32,
   "metadata": {},
   "outputs": [
    {
     "data": {
      "text/plain": [
       "RandomForestClassifier(n_jobs=-1)"
      ]
     },
     "execution_count": 32,
     "metadata": {},
     "output_type": "execute_result"
    }
   ],
   "source": [
    "from sklearn.ensemble import RandomForestClassifier\n",
    "forest_cls_nosel = RandomForestClassifier(n_jobs = -1)#, n_estimators = 5)# , max_depth = 200 , random_state=0)\n",
    "forest_cls_nosel.fit(data_train, label)"
   ]
  },
  {
   "cell_type": "code",
   "execution_count": 33,
   "metadata": {},
   "outputs": [],
   "source": [
    "tree_pred_test_nosel = forest_cls_nosel.predict(data_test)"
   ]
  },
  {
   "cell_type": "code",
   "execution_count": 34,
   "metadata": {},
   "outputs": [
    {
     "name": "stdout",
     "output_type": "stream",
     "text": [
      "Acccuracy:  0.8074245939675174\n"
     ]
    }
   ],
   "source": [
    "conf_matrix = confusion_matrix(label_test.argmax(axis=1), tree_pred_test_nosel.argmax(axis=1))\n",
    "acc = accuracy_score(label_test.argmax(axis=1), tree_pred_test_nosel.argmax(axis=1))\n",
    "\n",
    "\n",
    "print('Acccuracy: ', acc)"
   ]
  },
  {
   "cell_type": "code",
   "execution_count": null,
   "metadata": {},
   "outputs": [],
   "source": []
  }
 ],
 "metadata": {
  "kernelspec": {
   "display_name": "Python 3",
   "language": "python",
   "name": "python3"
  },
  "language_info": {
   "codemirror_mode": {
    "name": "ipython",
    "version": 3
   },
   "file_extension": ".py",
   "mimetype": "text/x-python",
   "name": "python",
   "nbconvert_exporter": "python",
   "pygments_lexer": "ipython3",
   "version": "3.6.10"
  }
 },
 "nbformat": 4,
 "nbformat_minor": 4
}
